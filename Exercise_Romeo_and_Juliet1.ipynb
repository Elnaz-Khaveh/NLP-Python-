{
  "cells": [
    {
      "cell_type": "code",
      "execution_count": 1,
      "metadata": {
        "id": "1qd4g2NTxmKi"
      },
      "outputs": [],
      "source": [
        "import urllib.request\n",
        "import re"
      ]
    },
    {
      "cell_type": "markdown",
      "metadata": {
        "id": "rjcq4Wrhiv4q"
      },
      "source": [
        "Data source: http://shakespeare.mit.edu/romeo_juliet/full.html"
      ]
    },
    {
      "cell_type": "code",
      "execution_count": 2,
      "metadata": {
        "id": "ry1uY3PUxeXR"
      },
      "outputs": [],
      "source": [
        "# load the play \"Romeo and Juliet\" by William Shakespeare into python\n",
        "\n",
        "r_and_j_file=urllib.request.urlopen(\"https://gist.githubusercontent.com/romba050/a9e23b3ba49423489125deb380d192c8/raw/a22ffa158028444940628d13003b866207cdfc52/Romeo_and_Juliet.txt\")\n",
        "# r_and_j_file is a file HTTPResponse object\n",
        "  \n",
        "# Decode HTTPResponse according to the UTF-8 character encoding (Unicode Transformation Format – 8-bit).\n",
        "r_and_j_file = r_and_j_file.read().decode('utf-8')\n",
        " \n",
        "# Split the string by newline character to receive a list of line strings.\n",
        "text_list = r_and_j_file.splitlines()\n",
        "  "
      ]
    },
    {
      "cell_type": "markdown",
      "metadata": {
        "id": "Pvvn2ENfwCIV"
      },
      "source": [
        "Print the first 10 lines of the play. (The title of the play, the declaration of a new act and empty lines all count as lines.)"
      ]
    },
    {
      "cell_type": "code",
      "execution_count": 3,
      "metadata": {
        "colab": {
          "base_uri": "https://localhost:8080/"
        },
        "id": "drW3QxJYwHEn",
        "outputId": "a86b1128-4673-446c-a1e0-26589cd3ce39"
      },
      "outputs": [
        {
          "output_type": "stream",
          "name": "stdout",
          "text": [
            "Romeo and Juliet\n",
            "\n",
            "ACT I\n",
            "PROLOGUE\n",
            "Two households, both alike in dignity,\n",
            "In fair Verona, where we lay our scene,\n",
            "From ancient grudge break to new mutiny,\n",
            "Where civil blood makes civil hands unclean.\n",
            "From forth the fatal loins of these two foes\n",
            "A pair of star-cross'd lovers take their life;\n"
          ]
        }
      ],
      "source": [
        "for i in range(0,10):\n",
        "  print(text_list[i])\n",
        "\n",
        "#without using a for loop I get the list of 10 first sentences which is not needed,so I used an itteration  "
      ]
    },
    {
      "cell_type": "markdown",
      "metadata": {
        "id": "7sj6FugT731H"
      },
      "source": [
        "Let's do a word analysis on this classic play by Shakespeare. We want to know how often the author used each word in Romeo and Juliet. To achieve this, we define a dictionary where the keys correspond to all unique words that appear in the text, and the values correspond to how often that word occurs in the text. Make sure to use the function ```.lower()``` when counting the words, so that capitalization is not an issue. (I.e. we count \"the\" is the same word, no matter if it appears at the beginning of a sentence or within the sentence."
      ]
    },
    {
      "cell_type": "code",
      "execution_count": 4,
      "metadata": {
        "id": "A-XZw_mntzUy"
      },
      "outputs": [],
      "source": [
        "#first of all spliting lines into words with seperator space:\n",
        "text_split=r_and_j_file.split()\n",
        "\n",
        "#Then replacing punctuations in each word for counting:\n",
        "out=[re.sub(r'[^\\w\\s]+','',s) for s in text_split]\n",
        "\n",
        "#converting to lowercase\n",
        "rj_lc=[x.lower() for x in out]\n",
        "\n",
        "#dictionary of words count\n",
        "count=dict()\n",
        "\n",
        "## In this method i have an error: (Could you please tell me why)\n",
        "\n",
        "#[count[i]+=1 for i in rj_lc if i in count]\n",
        "#[count[i]=1 for i in rj_lc if i not in count]  \n",
        "#print(count)\n",
        "\n",
        "#so I have another method:\n",
        "for i in rj_lc:\n",
        "  if i in count:\n",
        "    count[i]+=1\n",
        "  else:\n",
        "    count[i]=1\n",
        "\n",
        "#print(count)      \n",
        "\n",
        "\n",
        "\n",
        "\n",
        "\n"
      ]
    },
    {
      "cell_type": "markdown",
      "metadata": {
        "id": "MCfntzO31auV"
      },
      "source": [
        "Print out the first 10 entries of the dictionary (i.e. 10 (key, value) pairs)."
      ]
    },
    {
      "cell_type": "code",
      "execution_count": 9,
      "metadata": {
        "colab": {
          "base_uri": "https://localhost:8080/"
        },
        "id": "1x3bCedO1HuH",
        "outputId": "7e22fde4-fefa-4b52-a2e5-dc3fc1eae328"
      },
      "outputs": [
        {
          "output_type": "stream",
          "name": "stdout",
          "text": [
            "('romeo', 293)\n",
            "('and', 717)\n",
            "('juliet', 176)\n",
            "('act', 7)\n",
            "('i', 580)\n",
            "('prologue', 3)\n",
            "('two', 22)\n",
            "('households', 2)\n",
            "('both', 23)\n",
            "('alike', 3)\n"
          ]
        }
      ],
      "source": [
        "\n",
        "List=list(count.items())\n",
        "for i in range(0,10):\n",
        "  print(List[i])"
      ]
    },
    {
      "cell_type": "markdown",
      "metadata": {
        "id": "A1tG2JNJpG9O"
      },
      "source": [
        "How many unique words did Shakespeare use in 'Romeo and Juliet'? How often did he use the words \"romeo\" and \"juliet\" (regardless of capitalization)"
      ]
    },
    {
      "cell_type": "code",
      "execution_count": 6,
      "metadata": {
        "colab": {
          "base_uri": "https://localhost:8080/"
        },
        "id": "pbgP1tDGpM4N",
        "outputId": "7d54d87b-e949-4be9-f802-f430b12d23a5"
      },
      "outputs": [
        {
          "output_type": "stream",
          "name": "stdout",
          "text": [
            "['dignity', 'grudge', 'unclean', 'loins', 'starcrossd', 'misadventured', 'overthrows', 'passage', 'deathmarkd', 'continuance', 'childrens', 'traffic', 'stage', 'strive', 'armed', 'bucklers', 'coals', 'colliers', 'collar', 'moves', 'runnst', 'weakest', 'weaker', 'vessels', 'push', 'maidenheads', 'tool', 'naked', 'sides', 'list', 'disgrace', 'swashing', 'heartless', 'hinds', 'coward', 'several', 'join', 'bills', 'gown', 'flourishes', 'capulethold', 'rebellious', 'subjects', 'profaners', 'neighbourstained', 'beasts', 'pernicious', 'purple', 'fountains', 'issuing', 'throw', 'mistemperd', 'bred', 'thrice', 'disturbd', 'beseeming', 'wield', 'freetown', 'judgmentplace', 'abroach', 'nephew', 'adversary', 'fighting', 'instant', 'prepared', 'defiance', 'swung', 'hissd', 'interchanging', 'thrusts', 'parted', 'worshippd', 'peerd', 'troubled', 'drave', 'grove', 'sycamore', 'westward', 'rooteth', 'citys', 'walking', 'stole', 'covert', 'measuring', 'busied', 'theyre', 'pursuing', 'shunnd', 'augmenting', 'adding', 'allcheering', 'furthest', 'shady', 'auroras', 'steals', 'pens', 'artificial', 'portentous', 'importuned', 'himselfi', 'discovery', 'bit', 'dedicate', 'willingly', 'grievance', 'denied', 'goodmorrow', 'seem', 'went', 'lengthens', 'tyrannous', 'muffled', 'pathways', 'dine', 'brawling', 'create', 'lightness', 'serious', 'chaos', 'wellseeming', 'forms', 'feather', 'health', 'stillwaking', 'transgression', 'propagate', 'prest', 'add', 'fume', 'sparkling', 'nourishd', 'madness', 'discreet', 'choking', 'preserving', 'sadly', 'aimd', 'markman', 'soonest', 'arrow', 'dians', 'chastity', 'childish', 'unharmd', 'terms', 'bide', 'assailing', 'lap', 'saintseducing', 'chaste', 'sparing', 'huge', 'starved', 'severity', 'cuts', 'posterity', 'exquisite', 'masks', 'strucken', 'treasure', 'passd', 'doctrine', 'penalty', 'lived', 'odds', 'saying', 'stranger', 'wither', 'ripe', 'marrd', 'swallowd', 'hopes', 'hopeful', 'agree', 'scope', 'according', 'accustomd', 'whereto', 'invited', 'earthtreading', 'wellapparelld', 'april', 'limping', 'winter', 'treads', 'female', 'buds', 'inherit', 'shoemaker', 'meddle', 'yard', 'fisher', 'pencil', 'painter', 'nets', 'writing', 'learnedin', 'burns', 'lessend', 'anguish', 'giddy', 'holp', 'cures', 'languish', 'rank', 'plaintainleaf', 'broken', 'shin', 'kept', 'whippd', 'tormented', 'andgodden', 'gi', 'perhaps', 'learned', 'language', 'honestly', 'reads', 'martino', 'anselme', 'sisters', 'widow', 'vitravio', 'placentio', 'nieces', 'valentine', 'niece', 'livia', 'valentio', 'lucio', 'lively', 'helena', 'assembly', 'askd', 'asking', 'crush', 'wine', 'sups', 'admired', 'unattainted', 'swan', 'devout', 'religion', 'maintains', 'falsehood', 'fires', 'drownd', 'transparent', 'heretics', 'liars', 'allseeing', 'begun', 'poised', 'crystal', 'scales', 'weighd', 'shining', 'scant', 'splendor', 'ladybird', 'matternurse', 'secretnurse', 'rememberd', 'thous', 'spoken', 'lammastide', 'fortnight', 'shegod', 'christian', 'earthquake', 'weandi', 'brainbut', 'nipple', 'tetchy', 'rood', 'waddled', 'husbandgod', 'mantook', 'holidame', 'its', 'bump', 'cockerels', 'stone', 'parlous', 'cried', 'husbandfallst', 'comest', 'stint', 'babe', 'theme', 'teat', 'esteem', 'seeks', 'worldwhy', 'pen', 'lineament', 'obscured', 'margent', 'unbound', 'beautify', 'lacks', 'manys', 'glory', 'clasps', 'possess', 'briefly', 'looking', 'liking', 'endart', 'pantry', 'extremity', 'wait', 'six', 'torchbearers', 'speech', 'apology', 'prolixity', 'hoodwinkd', 'scarf', 'tartars', 'painted', 'lath', 'scaring', 'crowkeeper', 'withoutbook', 'faintly', 'prompter', 'ambling', 'nimble', 'soles', 'stakes', 'borrow', 'sore', 'enpierced', 'shaft', 'feathers', 'pitch', 'boisterous', 'pricks', 'thorn', 'pricking', 'visage', 'curious', 'quote', 'deformities', 'beetle', 'sooner', 'betake', 'tickle', 'senseless', 'heels', 'proverbd', 'phrase', 'candleholder', 'game', 'duns', 'constables', 'dun', 'mire', 'sirreverence', 'wherein', 'stickst', 'lamps', 'dreamd', 'dreamers', 'queen', 'midwife', 'agatestone', 'forefinger', 'alderman', 'team', 'atomies', 'athwart', 'noses', 'wagonspokes', 'grasshoppers', 'traces', 'smallest', 'web', 'collars', 'moonshines', 'watery', 'crickets', 'lash', 'film', 'greycoated', 'gnat', 'round', 'prickd', 'lazy', 'chariot', 'hazelnut', 'joiner', 'squirrel', 'grub', 'coachmakers', 'courtsies', 'lawyers', 'fees', 'angry', 'blisters', 'plagues', 'breaths', 'sweetmeats', 'tainted', 'smelling', 'tithepigs', 'tail', 'tickling', 'parsons', 'benefice', 'driveth', 'cutting', 'foreign', 'throats', 'breaches', 'ambuscadoes', 'spanish', 'blades', 'healths', 'fivefathom', 'drums', 'frighted', 'swears', 'plats', 'manes', 'bakes', 'elflocks', 'sluttish', 'hairs', 'untangled', 'misfortune', 'bodes', 'hag', 'backs', 'learns', 'carriage', 'talkst', 'idle', 'begot', 'fantasy', 'thin', 'wooes', 'frozen', 'north', 'angerd', 'puffs', 'dewdropping', 'south', 'ourselves', 'misgives', 'consequence', 'hanging', 'revels', 'expire', 'steerage', 'direct', 'drum', 'waiting', 'napkins', 'shift', 'scrape', 'unwashed', 'jointstools', 'courtcupboard', 'plate', 'marchpane', 'porter', 'grindstone', 'nell', 'antony', 'looked', 'boys', 'brisk', 'liver', 'toes', 'unplagued', 'bout', 'mistresses', 'dainty', 'whispering', 'girls', 'knaves', 'tables', 'unlookdfor', 'byr', 'nuptials', 'lucentio', 'pentecost', 'maskd', 'elder', 'ward', 'servingman', 'enrich', 'jewel', 'ethiopes', 'snowy', 'trooping', 'crows', 'touching', 'forswear', 'coverd', 'fleer', 'stock', 'kin', 'portly', 'wellgovernd', 'disparagement', 'frowns', 'semblance', 'fits', 'endured', 'goodman', 'cockahoop', 'trick', 'scathe', 'princox', 'ormore', 'wilful', 'intrusion', 'convert', 'profane', 'unworthiest', 'shrine', 'blushing', 'mannerly', 'trespass', 'sweetly', 'bachelor', 'chinks', 'begone', 'unrest', 'trifling', 'banquet', 'een', 'fay', 'waxes', 'tiberio', 'petrucio', 'follows', 'sprung', 'unknown', 'prodigious', 'danced', 'strangers', 'deathbed', 'gapes', 'groand', 'beloved', 'betwitched', 'charm', 'complain', 'bait', 'hooks', 'access', 'breathe', 'vows', 'newbeloved', 'tempering', 'extremities', 'extreme', 'lane', 'centre', 'climbs', 'leaps', 'leapd', 'humours', 'sigh', 'gossip', 'nickname', 'purblind', 'adam', 'cophetua', 'beggarmaid', 'heareth', 'stirreth', 'moveth', 'ape', 'rosalines', 'forehead', 'lip', 'quivering', 'thigh', 'adjacent', 'twould', 'circle', 'letting', 'conjured', 'invocation', 'mistres', 's', 'trees', 'consorted', 'humorous', 'befits', 'medlar', 'tree', 'fruit', 'medlars', 'et', 'caetera', 'poperin', 'pear', 'trucklebed', 'fieldbed', 'jests', 'scars', 'appears', 'breaks', 'fairest', 'twinkle', 'spheres', 'brightness', 'lamp', 'region', 'stream', 'leans', 'glove', 'angel', 'glorious', 'winged', 'whiteupturned', 'wondering', 'bestrides', 'lazypacing', 'sails', 'refuse', 'rose', 'smell', 'calld', 'retain', 'perfection', 'owes', 'title', 'doff', 'baptized', 'bescreend', 'stumblest', 'utterance', 'dislike', 'considering', 'oerperch', 'limits', 'attempt', 'peril', 'cloak', 'prorogued', 'direction', 'foundst', 'prompt', 'vast', 'shore', 'farthest', 'merchandise', 'maiden', 'bepaint', 'compliment', 'swearst', 'perjuries', 'jove', 'laughs', 'faithfully', 'won', 'perverse', 'havior', 'overheardst', 'impute', 'yielding', 'discovered', 'tips', 'fruittree', 'monthly', 'changes', 'circled', 'orb', 'variable', 'gracious', 'idolatry', 'although', 'contract', 'rash', 'unadvised', 'lightens', 'ripening', 'repose', 'unsatisfied', 'satisfaction', 'request', 'frank', 'bounty', 'boundless', 'infinite', 'afeard', 'flatteringsweet', 'substantial', 'bent', 'procure', 'perform', 'throughout', 'anonbut', 'meanst', 'thrive', 'schoolboys', 'books', 'school', 'retiring', 'falconers', 'lure', 'tasselgentle', 'bondage', 'echo', 'repetition', 'silversweet', 'softest', 'attending', 'remembering', 'forgetting', 'hop', 'prisoner', 'twisted', 'gyves', 'thread', 'plucks', 'lovingjealous', 'cherishing', 'parting', 'crave', 'basket', 'greyeyed', 'frowning', 'chequering', 'eastern', 'flecked', 'darkness', 'drunkard', 'reels', 'path', 'titans', 'wheels', 'advance', 'dank', 'upfill', 'osier', 'cage', 'baleful', 'preciousjuiced', 'burying', 'divers', 'sucking', 'virtues', 'mickle', 'powerful', 'plants', 'qualities', 'special', 'straind', 'revolts', 'stumbling', 'abuse', 'virtue', 'misapplied', 'action', 'dignified', 'infant', 'rind', 'residence', 'medicine', 'smelt', 'cheers', 'tasted', 'slays', 'senses', 'opposed', 'kings', 'encamp', 'predominant', 'canker', 'eats', 'plant', 'benedicite', 'saluteth', 'argues', 'distemperd', 'lodges', 'unbruised', 'unstuffd', 'couch', 'earliness', 'assure', 'uproused', 'distemperature', 'sweeter', 'remedies', 'physic', 'hatred', 'intercession', 'steads', 'plain', 'homely', 'plainly', 'combined', 'combine', 'forsaken', 'maria', 'brine', 'sallow', 'thrown', 'season', 'clears', 'stain', 'chidst', 'pupil', 'badst', 'allow', 'rote', 'spell', 'waverer', 'assistant', 'alliance', 'rancour', 'stumble', 'hardhearted', 'torments', 'dared', 'stabbed', 'wenchs', 'lovesong', 'pin', 'cleft', 'bowboys', 'buttshaft', 'courageous', 'captain', 'compliments', 'pricksong', 'distance', 'proportion', 'rests', 'minim', 'butcher', 'button', 'punto', 'reverso', 'hai', 'pox', 'lisping', 'affecting', 'fantasticoes', 'tuners', 'accents', 'tall', 'whore', 'afflicted', 'fashionmongers', 'perdonamis', 'bench', 'roe', 'dried', 'herring', 'fishified', 'numbers', 'petrarch', 'flowed', 'laura', 'kitchenwench', 'berhyme', 'dido', 'dowdy', 'cleopatra', 'gipsy', 'helen', 'hero', 'hildings', 'harlots', 'thisbe', 'bon', 'jour', 'salutation', 'slop', 'ship', 'slip', 'conceive', 'strain', 'constrains', 'hams', 'courtsy', 'kindly', 'exposition', 'flowered', 'single', 'singlesoled', 'solely', 'singleness', 'chase', 'sweeting', 'sauce', 'cheveril', 'stretches', 'inch', 'narrow', 'ell', 'stretch', 'added', 'proves', 'groaning', 'sociable', 'drivelling', 'runs', 'lolling', 'bauble', 'hole', 'desirest', 'large', 'depth', 'occupy', 'argument', 'goodly', 'shirt', 'smock', 'fans', 'bawdy', 'dial', 'noon', 'older', 'youngest', 'worst', 'confidence', 'indite', 'lenten', 'pie', 'stale', 'score', 'hoars', 'singing', 'merchant', 'ropery', 'lustier', 'jacks', 'flirtgills', 'skainsmates', 'suffer', 'vexed', 'quivers', 'gross', 'behavior', 'double', 'offered', 'dealing', 'gentlemanlike', 'shrived', 'penny', 'abbey', 'tackled', 'stair', 'topgallant', 'convoy', 'trusty', 'quit', 'putting', 'ladylord', 'prating', 'thingo', 'nobleman', 'aboard', 'lief', 'properer', 'clout', 'versal', 'mocker', 'dogs', 'theno', 'letterand', 'sententious', 'clock', 'promised', 'perchance', 'lame', 'heralds', 'faster', 'glide', 'suns', 'driving', 'louring', 'hills', 'nimblepiniond', 'doves', 'windswift', 'highmost', 'hill', 'journey', 'ball', 'bandy', 'folks', 'feign', 'unwieldy', 'gate', 'nurseo', 'merrily', 'playing', 'aweary', 'ache', 'jaunt', 'talked', 'dined', 'aches', 'pieces', 'sideo', 'sending', 'catch', 'jaunting', 'sorry', 'handsome', 'virtuouswhere', 'oddly', 'repliest', 'poultice', 'aching', 'messages', 'coil', 'theyll', 'ladder', 'drudge', 'vi', 'countervail', 'lovedevouring', 'ends', 'consume', 'deliciousness', 'confounds', 'appetite', 'moderately', 'arrives', 'tardy', 'flint', 'bestride', 'gossamer', 'idles', 'heapd', 'skill', 'blazon', 'sweeten', 'neighbour', 'musics', 'unfold', 'imagined', 'receive', 'worth', 'excess', 'incorporate', 'retire', 'stirring', 'confines', 'tavern', 'claps', 'table', 'operation', 'drawer', 'mood', 'italy', 'shortly', 'beard', 'cracking', 'nuts', 'hazel', 'fun', 'quarrels', 'beaten', 'addle', 'quarrelled', 'coughing', 'wakened', 'doublet', 'easter', 'tying', 'riband', 'tutor', 'quarter', 'couple', 'consortst', 'fiddlestick', 'haunt', 'coldly', 'grievances', 'budge', 'hanged', 'follower', 'thisthou', 'appertaining', 'injuries', 'injured', 'capuletwhich', 'ownbe', 'dishonourable', 'submission', 'alla', 'stoccata', 'carries', 'ratcatcher', 'eight', 'pitcher', 'expressly', 'forbidden', 'bandying', 'followers', 'sped', 'surgeon', 'courage', 'churchdoor', 'enoughtwill', 'peppered', 'rat', 'braggart', 'rogue', 'arithmetic', 'ally', 'behalf', 'reputation', 'slandertybalt', 'effeminate', 'softend', 'valours', 'aspired', 'fate', 'depend', 'furious', 'respective', 'lenity', 'fireeyed', 'gavest', 'staying', 'attended', 'wives', 'beginners', 'discover', 'spilt', 'displeasure', 'uttered', 'humbly', 'bowd', 'truce', 'unruly', 'spleen', 'tilts', 'piercing', 'martial', 'sends', 'dexterity', 'retorts', 'swifter', 'agile', 'points', 'entertaind', 'revenge', 'fell', 'justice', 'owe', 'concludes', 'offence', 'interest', 'hates', 'proceeding', 'ableeding', 'amerce', 'pleading', 'excuses', 'purchase', 'abuses', 'pardoning', 'gallop', 'fieryfooted', 'steeds', 'phoebus', 'phaethon', 'west', 'cloudy', 'curtain', 'loveperforming', 'runaways', 'wink', 'untalkd', 'unseen', 'rites', 'agrees', 'sobersuited', 'matron', 'winning', 'playd', 'stainless', 'maidenhoods', 'unmannd', 'bating', 'mantle', 'acted', 'whiter', 'snow', 'ravens', 'blackbrowd', 'garish', 'bought', 'enjoyd', 'impatient', 'heavenly', 'eloquence', 'throws', 'wring', 'torment', 'roard', 'vowel', 'deathdarting', 'cockatrice', 'sounds', 'weal', 'markhere', 'manly', 'bedaubd', 'goreblood', 'swounded', 'bankrupt', 'resign', 'dearloved', 'dearer', 'dreadful', 'trumpet', 'serpent', 'flowering', 'dragon', 'beautiful', 'angelical', 'dovefeatherd', 'raven', 'wolvishravening', 'divinest', 'opposite', 'justly', 'seemst', 'bower', 'moral', 'containing', 'deceit', 'gorgeous', 'honesty', 'perjured', 'naught', 'dissemblers', 'blisterd', 'ashamed', 'crownd', 'monarch', 'universal', 'threehours', 'tributary', 'drops', 'belong', 'mistaking', 'memory', 'deeds', 'sinners', 'minds', 'romeobanished', 'fellowship', 'needly', 'rankd', 'followd', 'modern', 'lamentations', 'rearward', 'following', 'limit', 'wailing', 'wounds', 'theirs', 'ropes', 'exiled', 'highway', 'maidenwidowed', 'weddingbed', 'wot', 'affliction', 'enamourd', 'calamity', 'acquaintance', 'familiar', 'gentler', 'vanishd', 'purgatory', 'hencebanished', 'mistermd', 'calling', 'cuttst', 'axe', 'smilest', 'stroke', 'unthankfulness', 'rushd', 'turnd', 'validity', 'courtship', 'carrionflies', 'seize', 'blessing', 'thinking', 'mixd', 'sharpground', 'mebanished', 'howlings', 'divine', 'sinabsolver', 'professd', 'mangle', 'armour', 'adversitys', 'milk', 'displant', 'reverse', 'prevails', 'madmen', 'dispute', 'estate', 'murdered', 'unmade', 'heartsick', 'mistlike', 'infold', 'study', 'simpleness', 'errand', 'sympathy', 'predicament', 'rise', 'spakest', 'childhood', 'removed', 'conceald', 'cancelld', 'level', 'gun', 'anatomy', 'lodge', 'sack', 'acts', 'denote', 'unreasonable', 'unseemly', 'temperd', 'railst', 'usurer', 'aboundst', 'usest', 'bedeck', 'digressing', 'perjury', 'killing', 'vowd', 'cherish', 'skitless', 'flask', 'afire', 'ignorance', 'dismemberd', 'defence', 'lately', 'slewst', 'threatend', 'becomes', 'pack', 'blessings', 'courts', 'misbehaved', 'poutst', 'decreed', 'ascend', 'blaze', 'reconcile', 'wentst', 'lamentation', 'hasten', 'learning', 'disguised', 'sojourn', 'signify', 'chances', 'falln', 'unluckily', 'iwell', 'promise', 'abed', 'mewd', 'childs', 'respects', 'acquaint', 'earl', 'adoa', 'carelessly', 'revel', 'dozen', 'pierced', 'pomegranatetree', 'herald', 'lace', 'severing', 'candles', 'jocund', 'tiptoe', 'misty', 'mountain', 'meteor', 'exhales', 'torchbearer', 'needst', 'reflex', 'cynthias', 'notes', 'vaulty', 'wills', 'tune', 'straining', 'harsh', 'unpleasing', 'sharps', 'division', 'divideth', 'voices', 'affray', 'hunting', 'huntsup', 'wary', 'goeth', 'omit', 'opportunity', 'convey', 'greetings', 'illdivining', 'below', 'fails', 'renownd', 'procures', 'weepst', 'miles', 'asunder', 'grieve', 'traitor', 'reach', 'venge', 'runagate', 'himdead', 'receipt', 'thereof', 'abhors', 'named', 'wreak', 'ladyship', 'careful', 'sorted', 'expectst', 'lookd', 'sets', 'drizzle', 'sunset', 'rains', 'downright', 'conduit', 'showering', 'counterfeitst', 'ebb', 'flow', 'sailing', 'flood', 'raging', 'overset', 'tempesttossed', 'deliverd', 'decree', 'worthy', 'choplogic', 'minion', 'thankings', 'prouds', 'fettle', 'gainst', 'drag', 'hurdle', 'greensickness', 'carrion', 'tallowface', 'reply', 'itch', 'scarce', 'curse', 'hilding', 'blame', 'prudence', 'smatter', 'treason', 'mumbling', 'utter', 'gravity', 'bowl', 'bread', 'tide', 'provided', 'parentage', 'nobly', 'traind', 'proportiond', 'ones', 'puling', 'whining', 'mammet', 'graze', 'advise', 'starve', 'acknowledge', 'sees', 'godo', 'prevented', 'leaving', 'practise', 'stratagems', 'subject', 'stealth', 'dishclout', 'eagle', 'twere', 'speakest', 'comforted', 'marvellous', 'displeased', 'absolved', 'damnation', 'wicked', 'dispraise', 'praised', 'slack', 'uneven', 'immoderately', 'counts', 'dangerous', 'sway', 'hastes', 'inundation', 'minded', 'society', 'slowd', 'certain', 'text', 'abused', 'victory', 'wrongst', 'report', 'slander', 'slanderd', 'evening', 'serves', 'pensive', 'shield', 'strains', 'compass', 'prorogue', 'resolution', 'joind', 'label', 'deed', 'treacherous', 'revolt', 'longexperienced', 'extremes', 'umpire', 'arbitrating', 'commission', 'issue', 'speakst', 'execution', 'likely', 'undertake', 'copest', 'darest', 'battlements', 'tower', 'thievish', 'lurk', 'serpents', 'chain', 'charnelhouse', 'oercoverd', 'rattling', 'reeky', 'shanks', 'yellow', 'chapless', 'unstaind', 'distilled', 'liquor', 'drowsy', 'pulse', 'progress', 'surcease', 'warmth', 'testify', 'livest', 'fade', 'paly', 'deprived', 'supple', 'government', 'stark', 'shrunk', 'continue', 'pleasant', 'manner', 'country', 'uncoverd', 'borne', 'kindred', 'toy', 'abate', 'acting', 'resolve', 'invite', 'cooks', 'unfurnished', 'forsooth', 'peevish', 'selfwilld', 'harlotry', 'headstrong', 'gadding', 'opposition', 'behests', 'enjoind', 'prostrate', 'knot', 'knit', 'becomed', 'bounds', 'ast', 'reverend', 'closet', 'sort', 'needful', 'furnish', 'provision', 'deck', 'housewife', 'wondrous', 'wayward', 'reclaimd', 'attires', 'orisons', 'busy', 'culld', 'necessaries', 'behoveful', 'thrills', 'freezes', 'heat', 'mixture', 'subtly', 'ministerd', 'dishonourd', 'tried', 'redeem', 'stifled', 'healthsome', 'breathes', 'strangled', 'horrible', 'together', 'receptacle', 'ancestors', 'packed', 'festering', 'spirits', 'resort', 'smells', 'shrieks', 'mandrakes', 'torn', 'distraught', 'environed', 'hideous', 'fears', 'madly', 'forefathers', 'kinsmans', 'club', 'dash', 'ghost', 'seeking', 'spit', 'rapiers', 'keys', 'spices', 'dates', 'quinces', 'pastry', 'cock', 'crowd', 'curfewbell', 'rung', 'baked', 'meats', 'angelica', 'spare', 'cost', 'cotquean', 'whit', 'watchd', 'lesser', 'mousehunt', 'spits', 'baskets', 'drier', 'whoreson', 'loggerhead', 'waken', 'chat', 'slugabed', 'sweetheart', 'pennyworths', 'fright', 'undraws', 'dressd', 'clothes', 'revive', 'deceased', 'settled', 'separated', 'frost', 'wail', 'ties', 'deflowered', 'soninlaw', 'accursed', 'lasting', 'labour', 'pilgrimage', 'solace', 'catchd', 'divorced', 'wronged', 'spited', 'beguild', 'overthrown', 'distressed', 'hated', 'martyrd', 'uncomfortable', 'eternal', 'promotion', 'stick', 'custom', 'bids', 'lament', 'reasons', 'merriment', 'ordained', 'funeral', 'melancholy', 'bells', 'burial', 'solemn', 'hymns', 'dirges', 'lour', 'crossing', 'pipes', 'goodfellows', 'amended', 'money', 'gleek', 'minstrel', 'servingcreature', 'servingcreatures', 'pate', 'crotchets', 'griping', 'doleful', 'dumps', 'oppress', 'simon', 'catling', 'hugh', 'rebeck', 'james', 'soundpost', 'singer', 'speedy', 'lend', 'redress', 'pestilent', 'tarry', 'mourners', 'flattering', 'presage', 'bosoms', 'lightly', 'lifts', 'cheerful', 'emperor', 'booted', 'veronahow', 'fares', 'angels', 'low', 'bringing', 'ink', 'posthorses', 'mischief', 'hereabouts', 'dwellswhich', 'noted', 'tatterd', 'overwhelming', 'culling', 'simples', 'meagre', 'tortoise', 'hung', 'alligator', 'skins', 'illshaped', 'fishes', 'shelves', 'beggarly', 'boxes', 'earthen', 'pots', 'bladders', 'musty', 'seeds', 'remnants', 'packthread', 'cakes', 'thinly', 'scatterd', 'noting', 'penury', 'sale', 'caitiff', 'forerun', 'holiday', 'loud', 'ducats', 'soonspeeding', 'disperse', 'lifeweary', 'taker', 'trunk', 'discharged', 'violently', 'hasty', 'fired', 'hurry', 'cannons', 'mantuas', 'utters', 'wretchedness', 'fearst', 'famine', 'starveth', 'contempt', 'beggary', 'affords', 'consents', 'liquid', 'dispatch', 'compounds', 'cordial', 'franciscan', 'barefoot', 'associate', 'visiting', 'finding', 'searchers', 'suspecting', 'infectious', 'pestilence', 'ithere', 'brotherhood', 'neglecting', 'danger', 'notice', 'accidents', 'yewtrees', 'holding', 'tread', 'loose', 'unfirm', 'digging', 'whistle', 'signal', 'afraid', 'canopy', 'dust', 'distilld', 'moans', 'whistles', 'warning', 'wanders', 'muffle', 'wrenching', 'deliver', 'whateer', 'interrupt', 'partly', 'chiefly', 'employment', 'pry', 'intend', 'hungry', 'savagewild', 'fierce', 'inexorable', 'tigers', 'friendship', 'hereabout', 'maw', 'gorged', 'dearest', 'morsel', 'enforce', 'rotten', 'jaws', 'despite', 'cram', 'opens', 'haughty', 'creature', 'died', 'villanous', 'bodies', 'unhallowd', 'tempt', 'affright', 'urging', 'madmans', 'conjurations', 'felon', 'provoke', 'peruse', 'betossed', 'rode', 'misfortunes', 'triumphant', 'interrd', 'keepers', 'conquerd', 'ensign', 'crimson', 'flag', 'liest', 'sheet', 'sunder', 'unsubstantial', 'lean', 'abhorred', 'monster', 'paramour', 'chambermaids', 'yoke', 'inauspicious', 'worldwearied', 'embrace', 'righteous', 'dateless', 'bargain', 'engrossing', 'unsavoury', 'guide', 'dashing', 'rocks', 'seasick', 'weary', 'feet', 'stumbled', 'vainly', 'grubs', 'eyeless', 'discern', 'burneth', 'fearfully', 'menace', 'yewtree', 'advances', 'stains', 'masterless', 'gory', 'discolourd', 'steepd', 'unkind', 'stirs', 'comfortable', 'contagion', 'unnatural', 'greater', 'contradict', 'thwarted', 'dispose', 'sisterhood', 'nuns', 'timeless', 'churl', 'friendly', 'drop', 'haply', 'restorative', 'snatching', 'sheath', 'rust', 'whoeer', 'attach', 'bleeding', 'whereon', 'descry', 'safety', 'trembles', 'shriek', 'people', 'outcry', 'startles', 'sovereign', 'tombs', 'bleeds', 'mistaenfor', 'missheathed', 'bell', 'warns', 'liege', 'sons', 'stoppd', 'conspires', 'untaught', 'clear', 'ambiguities', 'descent', 'mischance', 'parties', 'greatest', 'least', 'suspected', 'direful', 'impeach', 'purge', 'excused', 'marriageday', 'pined', 'betrothd', 'rid', 'tutord', 'sleeping', 'potion', 'intended', 'dire', 'potions', 'force', 'accident', 'yesternight', 'returnd', 'prefixed', 'closely', 'conveniently', 'awaking', 'entreated', 'scare', 'violence', 'privy', 'miscarried', 'sacrificed', 'rigour', 'severest', 'brought', 'threatened', 'departed', 'countys', 'friars', 'writes', 'pothecary', 'therewithal', 'scourge', 'winking', 'brace', 'punishd', 'jointure', 'demand', 'statue', 'figure', 'sacrifices', 'glooming', 'pardond', 'punished']\n",
            "Number of Romeo: 293 \n",
            " Number of Juliet 176\n"
          ]
        }
      ],
      "source": [
        "#number of unique words:\n",
        "print([k for k,v in count.items() if v==1])\n",
        "\n",
        "#number of Romeo and Juliet:\n",
        "num1=rj_lc.count('romeo')\n",
        "num2=rj_lc.count('juliet')\n",
        "\n",
        "print('Number of Romeo:',num1,'\\n','Number of Juliet',num2)"
      ]
    },
    {
      "cell_type": "markdown",
      "metadata": {
        "id": "_pDKn8-WlnVk"
      },
      "source": [
        "The next goal of our analysis is to find out which words Shakespeare used the most when writing 'Romeo and Juliet'. To achieve this, use a list comprehension to recreate your dictionary, but this time, insert the elements in a specific order: start with the most common word and end with the words that only appear once in the whole text."
      ]
    },
    {
      "cell_type": "code",
      "execution_count": 10,
      "metadata": {
        "id": "LJK9qHVqlxbJ"
      },
      "outputs": [],
      "source": [
        "#Sorting the list in descending order:\n",
        "\n",
        "Sorted_list=sorted(count.items(),key=lambda x:x[1],reverse=True)\n",
        "#print(Sorted_list)"
      ]
    },
    {
      "cell_type": "markdown",
      "metadata": {
        "id": "Z5yEgAAJ76qu"
      },
      "source": [
        "Print the 10 most used words."
      ]
    },
    {
      "cell_type": "code",
      "execution_count": 8,
      "metadata": {
        "colab": {
          "base_uri": "https://localhost:8080/"
        },
        "id": "Wrno6K15qhmy",
        "outputId": "bb2cb976-c540-43b0-d279-065d94e010ff"
      },
      "outputs": [
        {
          "output_type": "stream",
          "name": "stdout",
          "text": [
            "['and', 'the', 'i', 'to', 'a', 'of', 'my', 'is', 'that', 'in']\n"
          ]
        }
      ],
      "source": [
        "#print(Sorted_list[0:10])\n",
        "#if tuples not possible:\n",
        "print([k for k,v in Sorted_list[0:10]])"
      ]
    }
  ],
  "metadata": {
    "colab": {
      "collapsed_sections": [],
      "name": "Exercise_Romeo_and_Juliet1.ipynb",
      "provenance": []
    },
    "kernelspec": {
      "display_name": "Python 3",
      "name": "python3"
    },
    "language_info": {
      "name": "python"
    }
  },
  "nbformat": 4,
  "nbformat_minor": 0
}